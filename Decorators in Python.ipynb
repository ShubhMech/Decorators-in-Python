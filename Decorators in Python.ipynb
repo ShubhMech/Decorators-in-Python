{
 "cells": [
  {
   "cell_type": "markdown",
   "id": "fb0030f8-9d74-4751-9ef4-f05be10b629c",
   "metadata": {},
   "source": [
    "## Life without a decorator:"
   ]
  },
  {
   "cell_type": "code",
   "execution_count": 5,
   "id": "09ee852d-1358-4520-90ee-38bcde4a5927",
   "metadata": {},
   "outputs": [],
   "source": [
    "def afunc(f):\n",
    "    def wrapper():\n",
    "        print(\"Inside a wrapper\")\n",
    "        f()\n",
    "        print(\"Going out of it\")\n",
    "    return wrapper\n",
    "\n",
    "def f():\n",
    "    print(\"Inside function 'f'\")\n",
    "    \n",
    "wrap=afunc(f)"
   ]
  },
  {
   "cell_type": "code",
   "execution_count": 3,
   "id": "0e5d2fc3-3165-4926-94af-5771cfea59f1",
   "metadata": {},
   "outputs": [
    {
     "data": {
      "text/plain": [
       "<function __main__.afunc.<locals>.wrapper()>"
      ]
     },
     "execution_count": 3,
     "metadata": {},
     "output_type": "execute_result"
    }
   ],
   "source": [
    "wrap"
   ]
  },
  {
   "cell_type": "code",
   "execution_count": 4,
   "id": "5a29ac39-f7f5-4c7b-be5d-f9bbf6969ed4",
   "metadata": {},
   "outputs": [
    {
     "name": "stdout",
     "output_type": "stream",
     "text": [
      "Inside a wrapper\n",
      "Inside function 'f'\n",
      "Going out of it\n"
     ]
    }
   ],
   "source": [
    "wrap()"
   ]
  },
  {
   "cell_type": "markdown",
   "id": "e362b564-9c96-424f-ae2a-3b6e6fbef597",
   "metadata": {},
   "source": [
    "## Python decorator"
   ]
  },
  {
   "cell_type": "code",
   "execution_count": 8,
   "id": "ca54a846-3927-4b36-b1b4-e2b49c74e6d7",
   "metadata": {},
   "outputs": [
    {
     "name": "stdout",
     "output_type": "stream",
     "text": [
      "Inside a wrapper\n",
      "Inside function 'f'\n",
      "Going out of it\n"
     ]
    }
   ],
   "source": [
    "def afunc(f):\n",
    "    def wrapper():\n",
    "        print(\"Inside a wrapper\")\n",
    "        f()\n",
    "        print(\"Going out of it\")\n",
    "    return wrapper\n",
    "\n",
    "@afunc\n",
    "def f():\n",
    "    print(\"Inside function 'f'\")\n",
    "f()"
   ]
  },
  {
   "cell_type": "markdown",
   "id": "6168205e-9903-4ce9-8fe5-9eb48bd153ec",
   "metadata": {},
   "source": [
    "#### :) Life is good!"
   ]
  },
  {
   "cell_type": "markdown",
   "id": "0723349d-3810-4d8c-8789-5510f9429b9d",
   "metadata": {},
   "source": [
    "### Now with functional arguments:\n",
    "First showing how not to pass arguments"
   ]
  },
  {
   "cell_type": "code",
   "execution_count": 9,
   "id": "27c0723f-89f5-475c-88bd-3b7bde48d850",
   "metadata": {},
   "outputs": [
    {
     "ename": "TypeError",
     "evalue": "wrapper() takes 0 positional arguments but 1 was given",
     "output_type": "error",
     "traceback": [
      "\u001b[1;31m---------------------------------------------------------------------------\u001b[0m",
      "\u001b[1;31mTypeError\u001b[0m                                 Traceback (most recent call last)",
      "\u001b[1;32m<ipython-input-9-955b9c62ddeb>\u001b[0m in \u001b[0;36m<module>\u001b[1;34m\u001b[0m\n\u001b[0;32m     10\u001b[0m     \u001b[0mprint\u001b[0m\u001b[1;33m(\u001b[0m\u001b[1;34m\"Inside function 'f'\"\u001b[0m\u001b[1;33m)\u001b[0m\u001b[1;33m\u001b[0m\u001b[1;33m\u001b[0m\u001b[0m\n\u001b[0;32m     11\u001b[0m     \u001b[0mprint\u001b[0m\u001b[1;33m(\u001b[0m\u001b[0ma\u001b[0m\u001b[1;33m)\u001b[0m\u001b[1;33m\u001b[0m\u001b[1;33m\u001b[0m\u001b[0m\n\u001b[1;32m---> 12\u001b[1;33m \u001b[0mf\u001b[0m\u001b[1;33m(\u001b[0m\u001b[1;34m\"hi\"\u001b[0m\u001b[1;33m)\u001b[0m\u001b[1;33m\u001b[0m\u001b[1;33m\u001b[0m\u001b[0m\n\u001b[0m",
      "\u001b[1;31mTypeError\u001b[0m: wrapper() takes 0 positional arguments but 1 was given"
     ]
    }
   ],
   "source": [
    "def afunc(f):\n",
    "    def wrapper():\n",
    "        print(\"Inside a wrapper\")\n",
    "        f()\n",
    "        print(\"Going out of it\")\n",
    "    return wrapper\n",
    "\n",
    "@afunc\n",
    "def f(a):\n",
    "    print(\"Inside function 'f'\")\n",
    "    print(a)\n",
    "f(\"hi\")"
   ]
  },
  {
   "cell_type": "code",
   "execution_count": 10,
   "id": "d96b478c-5222-4b1b-800a-3df0f50c1ae6",
   "metadata": {},
   "outputs": [],
   "source": [
    "#### Now with the right method"
   ]
  },
  {
   "cell_type": "code",
   "execution_count": 12,
   "id": "2cc1eccf-7754-4796-9965-d3b090e41036",
   "metadata": {},
   "outputs": [
    {
     "name": "stdout",
     "output_type": "stream",
     "text": [
      "Inside a wrapper\n",
      "Inside function 'f'\n",
      "hi\n",
      "Going out of it\n"
     ]
    }
   ],
   "source": [
    "def afunc(f):\n",
    "    def wrapper(*kwarg, **kwargs):\n",
    "        print(\"Inside a wrapper\")\n",
    "        f(*kwarg, **kwargs)\n",
    "        print(\"Going out of it\")\n",
    "    return wrapper\n",
    "\n",
    "@afunc\n",
    "def f(a):\n",
    "    print(\"Inside function 'f'\")\n",
    "    print(a)\n",
    "f(\"hi\")"
   ]
  },
  {
   "cell_type": "markdown",
   "id": "1999a79d-2425-42aa-bc57-aa09d3736dfe",
   "metadata": {},
   "source": [
    "## Now making the function f return some values instead of printing"
   ]
  },
  {
   "cell_type": "code",
   "execution_count": 14,
   "id": "b74805d7-d5b0-4fbb-9363-51b9a88472d2",
   "metadata": {},
   "outputs": [
    {
     "name": "stdout",
     "output_type": "stream",
     "text": [
      "Inside a wrapper\n",
      "Inside function 'f'\n",
      "hi\n",
      "Going out of it\n",
      "Inside a wrapper\n",
      "Going out of it\n"
     ]
    },
    {
     "data": {
      "text/plain": [
       "5"
      ]
     },
     "execution_count": 14,
     "metadata": {},
     "output_type": "execute_result"
    }
   ],
   "source": [
    "def afunc(f):\n",
    "    def wrapper(*kwarg, **kwargs):\n",
    "        print(\"Inside a wrapper\")\n",
    "        val=f(*kwarg, **kwargs)\n",
    "        print(\"Going out of it\")\n",
    "        return val\n",
    "    return wrapper\n",
    "\n",
    "@afunc\n",
    "def f(a):\n",
    "    print(\"Inside function 'f'\")\n",
    "    print(a)\n",
    "f(\"hi\")\n",
    "\n",
    "@afunc\n",
    "def another(a):\n",
    "    return a\n",
    "\n",
    "another(5)"
   ]
  },
  {
   "cell_type": "code",
   "execution_count": null,
   "id": "c217b37b-815d-4a76-a119-ea395a1a757c",
   "metadata": {},
   "outputs": [],
   "source": []
  }
 ],
 "metadata": {
  "kernelspec": {
   "display_name": "Python 3",
   "language": "python",
   "name": "python3"
  },
  "language_info": {
   "codemirror_mode": {
    "name": "ipython",
    "version": 3
   },
   "file_extension": ".py",
   "mimetype": "text/x-python",
   "name": "python",
   "nbconvert_exporter": "python",
   "pygments_lexer": "ipython3",
   "version": "3.8.5"
  }
 },
 "nbformat": 4,
 "nbformat_minor": 5
}
